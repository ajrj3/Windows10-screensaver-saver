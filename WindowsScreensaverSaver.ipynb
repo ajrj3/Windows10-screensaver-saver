{
 "cells": [
  {
   "cell_type": "code",
   "execution_count": 6,
   "metadata": {},
   "outputs": [],
   "source": [
    "import os\n",
    "import shutil\n",
    "from PIL import Image as PIL_Image\n",
    "from tkinter import *\n",
    "import subprocess\n",
    "import psutil"
   ]
  },
  {
   "cell_type": "code",
   "execution_count": 7,
   "metadata": {},
   "outputs": [],
   "source": [
    "# Source and destination directories\n",
    "source_path = r'C:\\Users\\adam.jackson\\AppData\\Local\\packages\\Microsoft.Windows.ContentDeliveryManager_cw5n1h2txyewy\\LocalState\\Assets'\n",
    "destination_path = r'C:\\Users\\adam.jackson\\Documents\\Windows screensavers'"
   ]
  },
  {
   "cell_type": "code",
   "execution_count": 8,
   "metadata": {},
   "outputs": [],
   "source": [
    "# takes file from current working directory, copies it as jpg to another directory with a new name \n",
    "def copy_and_rename_jpg(file, new_file_name, d_path):    \n",
    "    shutil.copy(file, d_path)\n",
    "    old_file = os.path.join(d_path, file)\n",
    "    new_file = os.path.join(d_path, new_file_name + '.jpg')\n",
    "    os.rename(old_file, new_file)\n",
    "\n",
    "# GUI app\n",
    "class App:\n",
    "    def __init__(self, master):\n",
    "        \n",
    "        frame = Frame(master)\n",
    "        frame.pack()\n",
    "        \n",
    "        self.label = Label(frame, text=\"Would you like to save this image?\")\n",
    "        self.label.pack(side=TOP)\n",
    "        \n",
    "        self.yes_button = Button(frame, text=\"Yes\", command=lambda:[self.save_img(), frame.quit()])\n",
    "        self.yes_button.pack(expand=True, fill=BOTH, side=LEFT)\n",
    "        \n",
    "        self.no_button = Button(frame, text=\"No\", command=frame.quit)\n",
    "        self.no_button.pack(side=RIGHT)\n",
    "        \n",
    "        self.filename_entry = Entry(frame)\n",
    "        self.filename_entry.insert(0, \"Type filename here\")\n",
    "        self.filename_entry.pack(side=BOTTOM)\n",
    "        \n",
    "    def save_img(self):\n",
    "        copy_and_rename_jpg(file, self.filename_entry.get(), destination_path)"
   ]
  },
  {
   "cell_type": "code",
   "execution_count": 15,
   "metadata": {
    "scrolled": true
   },
   "outputs": [],
   "source": [
    "file_size_threshold = 10000 #multiple files are too small to be image files\n",
    "os.chdir(source_path)\n",
    "\n",
    "for file in os.listdir():\n",
    "    file_stats = os.stat(file)\n",
    "    if file_stats.st_size > file_size_threshold:\n",
    "        with PIL_Image.open(file) as im:\n",
    "            root = Tk()\n",
    "            app = App(root)\n",
    "            im.show()\n",
    "            root.mainloop()\n",
    "            # close image once dealt with\n",
    "            for proc in psutil.process_iter():\n",
    "                if proc.name() == \"Microsoft.Photos.exe\":\n",
    "                    proc.kill()\n",
    "            root.destroy()"
   ]
  }
 ],
 "metadata": {
  "kernelspec": {
   "display_name": "Python 3",
   "language": "python",
   "name": "python3"
  },
  "language_info": {
   "codemirror_mode": {
    "name": "ipython",
    "version": 3
   },
   "file_extension": ".py",
   "mimetype": "text/x-python",
   "name": "python",
   "nbconvert_exporter": "python",
   "pygments_lexer": "ipython3",
   "version": "3.7.0"
  }
 },
 "nbformat": 4,
 "nbformat_minor": 2
}
